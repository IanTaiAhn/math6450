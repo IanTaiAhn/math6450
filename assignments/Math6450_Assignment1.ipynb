{
 "cells": [
  {
   "cell_type": "markdown",
   "id": "860b6059",
   "metadata": {},
   "source": [
    "<h2>Part 1: Data Exploration and Preparation</h2>\n",
    "<h3>Task 1.1: Data Loading and Initial Exploration</h3>\n",
    "<p>Load the Boston Housing dataset and perform initial exploratory data analysis.</p>"
   ]
  },
  {
   "cell_type": "markdown",
   "id": "cde650ad",
   "metadata": {},
   "source": [
    "<p>1.1 What are the dimensions of the dataset (number of observations and variables)?</p>"
   ]
  },
  {
   "cell_type": "code",
   "execution_count": null,
   "id": "c7bf5600",
   "metadata": {},
   "outputs": [],
   "source": [
    "# todo"
   ]
  },
  {
   "cell_type": "markdown",
   "id": "99081f14",
   "metadata": {},
   "source": [
    "<p>1.2 Provide descriptive statistics for the target variable (medv) and primary feature (lstat).</p>"
   ]
  },
  {
   "cell_type": "code",
   "execution_count": null,
   "id": "fb15f8aa",
   "metadata": {},
   "outputs": [],
   "source": [
    "# todo"
   ]
  },
  {
   "cell_type": "markdown",
   "id": "473200e3",
   "metadata": {},
   "source": [
    "<p>1.3 What is the correlation coefficient between medv and lstat? Interpret this value.</p>"
   ]
  },
  {
   "cell_type": "code",
   "execution_count": null,
   "id": "b2e4d7a7",
   "metadata": {},
   "outputs": [],
   "source": [
    "# todo"
   ]
  },
  {
   "cell_type": "markdown",
   "id": "bedcbc73",
   "metadata": {},
   "source": [
    "<p>1.4 Create a scatter plot showing the relationship between lstat (x-axis) and medv (y-axis).\n",
    "Describe the pattern you observe.</p>"
   ]
  },
  {
   "cell_type": "code",
   "execution_count": null,
   "id": "36f8b774",
   "metadata": {},
   "outputs": [],
   "source": [
    "# todo "
   ]
  },
  {
   "cell_type": "markdown",
   "id": "194dad24",
   "metadata": {},
   "source": [
    "<h2>Part 2: Linear Regression Model Fitting</h2>\n",
    "<h3>Task 2.1: Model Estimation</h3>\n",
    "<p>Fit a simple linear regression model using lstat to predict medv using statsmodels.</p>"
   ]
  },
  {
   "cell_type": "markdown",
   "id": "1d9024d6",
   "metadata": {},
   "source": [
    "<p>2.1 Write the estimated regression equation in the form:</p>\n",
    "\n",
    "$\\text{medv} = \\hat{\\beta}_0 + \\hat{\\beta}_1 \\times \\text{lstat}$\n",
    "\n",
    "$$\n",
    "\\text{medv} = \\hat{\\beta}_0 + \\hat{\\beta}_1 \\times \\text{lstat}\n",
    "$$"
   ]
  },
  {
   "cell_type": "code",
   "execution_count": null,
   "id": "8930d670",
   "metadata": {},
   "outputs": [],
   "source": [
    "# todo "
   ]
  },
  {
   "cell_type": "markdown",
   "id": "f3949afe",
   "metadata": {},
   "source": [
    "<p>2.2 What is the interpretation of the intercept in the context of this problem? Does it have practical meaning?</p>\n",
    "\n",
    "$\\hat{\\beta}_0$"
   ]
  },
  {
   "cell_type": "code",
   "execution_count": null,
   "id": "2d0c219f",
   "metadata": {},
   "outputs": [],
   "source": [
    "# todo "
   ]
  },
  {
   "cell_type": "markdown",
   "id": "87616f97",
   "metadata": {},
   "source": [
    "<p>2.3 What is the interpretation of the slope? Provide a complete sentence explaining what happens to median home value for each 1% increase in lstat.</p>\n",
    "\n",
    "$\\hat{\\beta}_1$"
   ]
  },
  {
   "cell_type": "code",
   "execution_count": null,
   "id": "da255fa5",
   "metadata": {},
   "outputs": [],
   "source": [
    "# todo"
   ]
  },
  {
   "cell_type": "markdown",
   "id": "3c0daee8",
   "metadata": {},
   "source": [
    "<p>2.4 Based on the 95% confidence intervals for the coefficients, are both the intercept and slope significantly different from zero? Support your answer with the confidence interval values.</p>"
   ]
  },
  {
   "cell_type": "markdown",
   "id": "82f606a8",
   "metadata": {},
   "source": [
    "<h3>Task 2.2: Model Performance Evaluation</h3>\n",
    "<p>Evaluate the overall performance and significance of your regression model.</p>"
   ]
  },
  {
   "cell_type": "markdown",
   "id": "8000e7b7",
   "metadata": {},
   "source": [
    "<p>2.5 What is the R-squared value? Interpret this in terms of the percentage of variation in median home values explained by the percentage of lower status population.</p>"
   ]
  },
  {
   "cell_type": "code",
   "execution_count": null,
   "id": "f564b564",
   "metadata": {},
   "outputs": [],
   "source": [
    "# todo"
   ]
  },
  {
   "cell_type": "markdown",
   "id": "9f3072dd",
   "metadata": {},
   "source": [
    "<p>2.6 What is the Root Mean Square Error (RMSE)? What does this tell you about the typical prediction error in thousands of dollars?</p>"
   ]
  },
  {
   "cell_type": "code",
   "execution_count": null,
   "id": "8a72f92d",
   "metadata": {},
   "outputs": [],
   "source": [
    "# todo "
   ]
  },
  {
   "cell_type": "markdown",
   "id": "b1e7fe99",
   "metadata": {},
   "source": [
    "<p>2.7 Report the F-statistic and its p-value. What does this test tell you about the overall significance of your model</p>"
   ]
  },
  {
   "cell_type": "code",
   "execution_count": null,
   "id": "ebddd6f3",
   "metadata": {},
   "outputs": [],
   "source": [
    "# todo "
   ]
  },
  {
   "cell_type": "markdown",
   "id": "10f6ce85",
   "metadata": {},
   "source": [
    "2.8 Compare the adjusted R-squared with the regular R-squared. Why might there be a difference, and what does the adjusted version account for?"
   ]
  },
  {
   "cell_type": "code",
   "execution_count": null,
   "id": "a924b92e",
   "metadata": {},
   "outputs": [],
   "source": [
    "# todo"
   ]
  },
  {
   "cell_type": "markdown",
   "id": "e3fd2960",
   "metadata": {},
   "source": [
    "<h2> Part 3: Statistical Inference and Hypothesis Testing</h2>\n",
    "<h3>Task 3.1: Coefficient Significance Testing</h3>\n",
    "<p>Conduct hypothesis tests for the regression coefficients.</p>"
   ]
  },
  {
   "cell_type": "markdown",
   "id": "6a61fce0",
   "metadata": {},
   "source": [
    "<p>3.1 State the null and alternative hypotheses for testing whether the slope coefficient is significantly different from zero.</p>"
   ]
  },
  {
   "cell_type": "markdown",
   "id": "0b82b30f",
   "metadata": {},
   "source": [
    "<p>3.2 Report the t-statistic and p-value for the slope coefficient. What is your conclusion at the 5% significance level?</p>"
   ]
  },
  {
   "cell_type": "markdown",
   "id": "0fb2d04d",
   "metadata": {},
   "source": [
    "<p>3.3 Calculate and interpret the 99% confidence interval for the slope coefficient. How does this compare to the 95% interval in terms of width and interpretation?</p>"
   ]
  },
  {
   "cell_type": "markdown",
   "id": "758ba76d",
   "metadata": {},
   "source": [
    "<p>3.4 If someone claimed that each 1% increase in lstat decreases median home value by exactly $1000, would your regression results support or contradict this claim? Justify your answer using statistical evidence.</p>"
   ]
  },
  {
   "cell_type": "markdown",
   "id": "113bf4c5",
   "metadata": {},
   "source": [
    "<h2>Part 4: Assumption Testing and Model Diagnostics</h2>\n",
    "<h3>Task 4.1: Normality of Residuals</h3>\n",
    "<p>Test whether the residuals follow a normal distribution.</p>"
   ]
  },
  {
   "cell_type": "markdown",
   "id": "39ec5467",
   "metadata": {},
   "source": [
    "<p>4.1 Perform the Shapiro-Wilk test for normality of residuals. Report the test statistic, p-value, and your conclusion at the 5% significance level.</p>"
   ]
  },
  {
   "cell_type": "markdown",
   "id": "5b4cc04e",
   "metadata": {},
   "source": [
    "<p>4.2 Create a Q-Q plot of the residuals. Does the visual evidence support or contradict your statistical test result? Explain what you observe.</p>"
   ]
  },
  {
   "cell_type": "markdown",
   "id": "a8b89ad5",
   "metadata": {},
   "source": [
    "<p>4.3 Create a histogram of residuals with a normal distribution overlay. Comment on the shape of the distribution and any departures from normality.</p>"
   ]
  },
  {
   "cell_type": "markdown",
   "id": "81ff5ef6",
   "metadata": {},
   "source": [
    "<h3>Task 4.2: Homoscedasticity Testing</h3>\n",
    "<p>Test whether the variance of residuals is constant across all fitted values.</p>"
   ]
  },
  {
   "cell_type": "markdown",
   "id": "a5a85adb",
   "metadata": {},
   "source": [
    "<p>4.4 Perform the Breusch-Pagan test for homoscedasticity. Report the test statistic, p-value, and your conclusion.</p>"
   ]
  },
  {
   "cell_type": "markdown",
   "id": "14262ad7",
   "metadata": {},
   "source": [
    "<p>4.5 Create a residuals vs. fitted values plot. What pattern would indicate heteroscedasticity? Do you observe this pattern in your plot?</p>"
   ]
  },
  {
   "cell_type": "markdown",
   "id": "b19bb0d6",
   "metadata": {},
   "source": [
    "<p>4.6 Create a scale-location plot (square root of absolute residuals vs. fitted values). Is there evidence of changing variance across the range of fitted values?</p>"
   ]
  },
  {
   "cell_type": "markdown",
   "id": "c946e422",
   "metadata": {},
   "source": [
    "<h3>Task 4.3: Independence and Influence Diagnostics</h3>\n",
    "<p>Test for independence and identify influential observations.</p>"
   ]
  },
  {
   "cell_type": "markdown",
   "id": "9bba7cfc",
   "metadata": {},
   "source": [
    "<p>4.7 Calculate the Durbin-Watson statistic. What does this value indicate about the independence of residuals?</p>"
   ]
  },
  {
   "cell_type": "markdown",
   "id": "503014ba",
   "metadata": {},
   "source": [
    "<p>4.8 Calculate Cook’s distance for all observations. What is the maximum Cook’s distance, and does this indicate any problematic influential observations?</p>"
   ]
  },
  {
   "cell_type": "markdown",
   "id": "095e6e28",
   "metadata": {},
   "source": [
    "<p>4.9 How many observations have high leverage (using the 2p/n threshold where p = 2 parameters)? What percentage of the total sample does this represent?</p>"
   ]
  },
  {
   "cell_type": "markdown",
   "id": "67329971",
   "metadata": {},
   "source": [
    "<p>4.10 Based on all assumption tests, is your linear regression model valid for statistical inference? Summarize which assumptions are satisfied and which (if any) are violated.</p>"
   ]
  },
  {
   "cell_type": "markdown",
   "id": "cd6f63ca",
   "metadata": {},
   "source": [
    "<h2> Part 5: Predictions and Intervals</h2>\n",
    "<h3>Task 5.1: Making Predictions</h3>\n",
    "<p>Use your model to make predictions with uncertainty quantification.</p>"
   ]
  },
  {
   "cell_type": "markdown",
   "id": "6ce730cd",
   "metadata": {},
   "source": [
    "<p>5.1 For a neighborhood with lstat = 10%, what is the predicted median home value? Show the calculation.</p>"
   ]
  },
  {
   "cell_type": "markdown",
   "id": "e1e471f0",
   "metadata": {},
   "source": [
    "<p>5.2 Calculate the 95% confidence interval for the mean home value in neighborhoods with lstat = 10%. Interpret this interval.</p>"
   ]
  },
  {
   "cell_type": "markdown",
   "id": "61b8a36d",
   "metadata": {},
   "source": [
    "<p>5.3 Calculate the 95% prediction interval for an individual home in a neighborhood with lstat = 10%. How does this compare to the confidence interval in terms of width?</p>"
   ]
  },
  {
   "cell_type": "markdown",
   "id": "4cc8abce",
   "metadata": {},
   "source": [
    "<p>5.4 Explain the difference between a confidence interval and a prediction interval in practical terms. When would you use each type?</p>"
   ]
  },
  {
   "cell_type": "markdown",
   "id": "0f870833",
   "metadata": {},
   "source": [
    "<p>5.5 For lstat values of 5%, 15%, and 25%, calculate point predictions and comment on how the relationship changes across different levels of the predictor variable</p>"
   ]
  }
 ],
 "metadata": {
  "language_info": {
   "name": "python"
  }
 },
 "nbformat": 4,
 "nbformat_minor": 5
}
