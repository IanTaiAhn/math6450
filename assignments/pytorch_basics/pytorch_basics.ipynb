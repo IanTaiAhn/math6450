{
 "cells": [
  {
   "cell_type": "code",
   "execution_count": 2,
   "id": "36a11d4d",
   "metadata": {},
   "outputs": [],
   "source": [
    "import pandas as pd\n",
    "import numpy as np\n",
    "import matplotlib.pyplot as plt\n",
    "import seaborn as sns\n",
    "# from statsmodels.tsa.seasonal import seasonal_decompose\n",
    "# from statsmodels.tsa.stattools import adfuller\n",
    "# from statsmodels.graphics.tsaplots import plot_acf, plot_pacf\n",
    "# from scipy import stats\n",
    "# import warnings\n",
    "# from statsmodels.tsa.statespace.sarimax import SARIMAX\n",
    "# from statsmodels.tsa.arima.model import ARIMA\n",
    "# from sklearn.metrics import mean_squared_error, mean_absolute_error, mean_absolute_percentage_error\n",
    "# import itertools\n",
    "# warnings.filterwarnings('ignore')"
   ]
  },
  {
   "cell_type": "markdown",
   "id": "c3383339",
   "metadata": {},
   "source": [
    "Download the Dataset: Access and download the dataset provided below. This dataset includes 100 observations of two predictor variables $x_1$​ and $x_2$​, along with $y$ as the response variable.\n",
    "\n",
    "Model Extension: Based on the model developed in 3-parameters_gradient_computation.ipynb, extend the model to incorporate three parameters (b, w1, w2) for a two-predictor-variable model.\n",
    "\n",
    "Parameter Estimation with PyTorch:\n",
    "Use PyTorch’s naive approach to estimate the parameters for the model $\\hat{y} = b + w_1 x_1 + w_2 x_2$, where $\\hat{y}$ is the predicted value of $y$.\n",
    "Set the learning rate to 0.001 and the number of epochs to 1000.\n",
    "\n",
    "Parameter Estimation with Linear Regression:\n",
    "After using the PyTorch approach, estimate the parameters using a standard linear regression method.\n",
    "\n",
    "Model Comparison:\n",
    "Calculate the $R^2$ score for both methods (PyTorch and Linear Regression).\n",
    "Compare the models and determine the best method based on the $R^2$ score.\n",
    "\n",
    "Submit your full code including the following:\n",
    "The estimated parameters from both methods. The $R^2$ scores for both models.\n",
    "A brief explanation of which method performed better based on the score."
   ]
  },
  {
   "cell_type": "code",
   "execution_count": 3,
   "id": "f7d80fae",
   "metadata": {},
   "outputs": [],
   "source": [
    "# TODO Read in data-1.csv \"datasets\\data-1.csv\"\n",
    "df = pd.read_csv('../../datasets/data-1.csv')"
   ]
  },
  {
   "cell_type": "code",
   "execution_count": 5,
   "id": "2c4535be",
   "metadata": {},
   "outputs": [
    {
     "data": {
      "text/html": [
       "<div>\n",
       "<style scoped>\n",
       "    .dataframe tbody tr th:only-of-type {\n",
       "        vertical-align: middle;\n",
       "    }\n",
       "\n",
       "    .dataframe tbody tr th {\n",
       "        vertical-align: top;\n",
       "    }\n",
       "\n",
       "    .dataframe thead th {\n",
       "        text-align: right;\n",
       "    }\n",
       "</style>\n",
       "<table border=\"1\" class=\"dataframe\">\n",
       "  <thead>\n",
       "    <tr style=\"text-align: right;\">\n",
       "      <th></th>\n",
       "      <th>x1</th>\n",
       "      <th>x2</th>\n",
       "      <th>y</th>\n",
       "    </tr>\n",
       "  </thead>\n",
       "  <tbody>\n",
       "    <tr>\n",
       "      <th>0</th>\n",
       "      <td>1.22</td>\n",
       "      <td>0.07</td>\n",
       "      <td>-1.218876</td>\n",
       "    </tr>\n",
       "    <tr>\n",
       "      <th>1</th>\n",
       "      <td>-1.57</td>\n",
       "      <td>-0.03</td>\n",
       "      <td>4.055956</td>\n",
       "    </tr>\n",
       "    <tr>\n",
       "      <th>2</th>\n",
       "      <td>-2.34</td>\n",
       "      <td>0.22</td>\n",
       "      <td>6.341626</td>\n",
       "    </tr>\n",
       "    <tr>\n",
       "      <th>3</th>\n",
       "      <td>-1.21</td>\n",
       "      <td>0.86</td>\n",
       "      <td>6.012937</td>\n",
       "    </tr>\n",
       "    <tr>\n",
       "      <th>4</th>\n",
       "      <td>-0.32</td>\n",
       "      <td>-0.32</td>\n",
       "      <td>0.668209</td>\n",
       "    </tr>\n",
       "  </tbody>\n",
       "</table>\n",
       "</div>"
      ],
      "text/plain": [
       "     x1    x2         y\n",
       "0  1.22  0.07 -1.218876\n",
       "1 -1.57 -0.03  4.055956\n",
       "2 -2.34  0.22  6.341626\n",
       "3 -1.21  0.86  6.012937\n",
       "4 -0.32 -0.32  0.668209"
      ]
     },
     "execution_count": 5,
     "metadata": {},
     "output_type": "execute_result"
    }
   ],
   "source": [
    "df.head(5)"
   ]
  }
 ],
 "metadata": {
  "kernelspec": {
   "display_name": "ml_env",
   "language": "python",
   "name": "ml_env"
  },
  "language_info": {
   "codemirror_mode": {
    "name": "ipython",
    "version": 3
   },
   "file_extension": ".py",
   "mimetype": "text/x-python",
   "name": "python",
   "nbconvert_exporter": "python",
   "pygments_lexer": "ipython3",
   "version": "3.12.10"
  }
 },
 "nbformat": 4,
 "nbformat_minor": 5
}
