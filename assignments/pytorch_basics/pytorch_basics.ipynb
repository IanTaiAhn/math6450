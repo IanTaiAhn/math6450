{
 "cells": [
  {
   "cell_type": "code",
   "execution_count": null,
   "id": "36a11d4d",
   "metadata": {},
   "outputs": [],
   "source": [
    "# dependencies"
   ]
  },
  {
   "cell_type": "code",
   "execution_count": null,
   "id": "f7d80fae",
   "metadata": {},
   "outputs": [],
   "source": [
    "# TODO Read in data-1.csv \"datasets\\data-1.csv\""
   ]
  }
 ],
 "metadata": {
  "language_info": {
   "name": "python"
  }
 },
 "nbformat": 4,
 "nbformat_minor": 5
}
