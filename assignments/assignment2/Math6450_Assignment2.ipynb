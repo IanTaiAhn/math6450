{
 "cells": [
  {
   "cell_type": "markdown",
   "id": "e68879ae",
   "metadata": {},
   "source": [
    "<h2>1 Data Exploration</h2>"
   ]
  },
  {
   "cell_type": "markdown",
   "id": "38cf55e0",
   "metadata": {},
   "source": [
    "<h4>(a) Calculate and report the descriptive statistics (mean, median, standard deviation, minimum, maximum) for all continuous variables in the dataset.</h4>"
   ]
  },
  {
   "cell_type": "code",
   "execution_count": null,
   "id": "f6e04be6",
   "metadata": {},
   "outputs": [],
   "source": [
    "# todo"
   ]
  },
  {
   "cell_type": "markdown",
   "id": "530cc75d",
   "metadata": {},
   "source": [
    "<h4>(b) Create a correlation matrix for all continuous variables. Which variable has the strongest linear\n",
    "relationship with claims?</h4>"
   ]
  },
  {
   "cell_type": "code",
   "execution_count": null,
   "id": "6949d8a4",
   "metadata": {},
   "outputs": [],
   "source": [
    "# todo"
   ]
  },
  {
   "cell_type": "markdown",
   "id": "48aa689b",
   "metadata": {},
   "source": [
    "<h4>(c) Identify any variables that appear to have skewed distributions based on the descriptive statistics. For these variables, comment on whether a logarithmic transformation might be appropriate.</h4>"
   ]
  },
  {
   "cell_type": "code",
   "execution_count": null,
   "id": "c653985a",
   "metadata": {},
   "outputs": [],
   "source": [
    "# todo"
   ]
  },
  {
   "cell_type": "markdown",
   "id": "bbaa5ae3",
   "metadata": {},
   "source": [
    "<h2>2 Simple Regression Analysis</h2>"
   ]
  },
  {
   "cell_type": "markdown",
   "id": "137925f6",
   "metadata": {},
   "source": [
    "<h4>(a) Fit a simple linear regression model with claims as the dependent variable and coverage as the explanatory variable. Write the fitted regression equation.</h4>"
   ]
  },
  {
   "cell_type": "code",
   "execution_count": null,
   "id": "9ab6d2c7",
   "metadata": {},
   "outputs": [],
   "source": [
    "# todo"
   ]
  },
  {
   "cell_type": "markdown",
   "id": "756ee9ef",
   "metadata": {},
   "source": [
    "<h4>(b) Interpret the slope coefficient in practical terms. What does it tell us about the relationship between coverage and claims?</h4>"
   ]
  },
  {
   "cell_type": "code",
   "execution_count": null,
   "id": "3bb4f816",
   "metadata": {},
   "outputs": [],
   "source": [
    "# todo"
   ]
  },
  {
   "cell_type": "markdown",
   "id": "32014e89",
   "metadata": {},
   "source": [
    "<h4>(c) Calculate and interpret the coefficient of determination (R2) for this model.</h4>"
   ]
  },
  {
   "cell_type": "code",
   "execution_count": null,
   "id": "eef9385e",
   "metadata": {},
   "outputs": [],
   "source": [
    "# todo"
   ]
  },
  {
   "cell_type": "markdown",
   "id": "5af576e0",
   "metadata": {},
   "source": [
    "<h2>3 Multiple Regression Model</h2>\n",
    "<h3>Fit a multiple linear regression model with claims as the dependent variable and the following explanatory variables: deductible, coverage, age, prior claims, and premium.</h3>"
   ]
  },
  {
   "cell_type": "markdown",
   "id": "86c32baa",
   "metadata": {},
   "source": [
    "<h4>(a) Write the fitted regression equation with coefficient estimates rounded to 3 decimal places.</h4>"
   ]
  },
  {
   "cell_type": "code",
   "execution_count": null,
   "id": "d379861b",
   "metadata": {},
   "outputs": [],
   "source": [
    "# todo"
   ]
  },
  {
   "cell_type": "markdown",
   "id": "3eeb6e9b",
   "metadata": {},
   "source": [
    "<h4>(b) Report the standard errors for each coefficient.</h4>"
   ]
  },
  {
   "cell_type": "code",
   "execution_count": null,
   "id": "9892c669",
   "metadata": {},
   "outputs": [],
   "source": [
    "# todo"
   ]
  },
  {
   "cell_type": "markdown",
   "id": "9d61a6a6",
   "metadata": {},
   "source": [
    "<h4>(c) Calculate and report R2, adjusted R2, and the residual standard deviation.</h4>"
   ]
  },
  {
   "cell_type": "code",
   "execution_count": null,
   "id": "ab452c80",
   "metadata": {},
   "outputs": [],
   "source": [
    "# todo"
   ]
  },
  {
   "cell_type": "markdown",
   "id": "0aa8232c",
   "metadata": {},
   "source": [
    "<h2>4 Statistical Inference</h2>\n",
    "<h3>Using the multiple regression model from Question 3:</h3>"
   ]
  },
  {
   "cell_type": "markdown",
   "id": "c2278fe3",
   "metadata": {},
   "source": [
    "<h4>(a) Test whether the coefficient for age is statistically significant at the 5% level. State your null and alternative hypotheses, calculate the t-statistic, and state your conclusion.</h4>"
   ]
  },
  {
   "cell_type": "code",
   "execution_count": null,
   "id": "e26c053f",
   "metadata": {},
   "outputs": [],
   "source": [
    "# todo"
   ]
  },
  {
   "cell_type": "markdown",
   "id": "63d6dd72",
   "metadata": {},
   "source": [
    "<h4>(b) Construct a 95% confidence interval for the coefficient of prior claims. Interpret this interval in practical terms.</h4>"
   ]
  },
  {
   "cell_type": "code",
   "execution_count": null,
   "id": "10c61201",
   "metadata": {},
   "outputs": [],
   "source": [
    "# todo"
   ]
  },
  {
   "cell_type": "markdown",
   "id": "594c8437",
   "metadata": {},
   "source": [
    "<h4>(c) Perform an overall F-test for the significance of the regression model. State your hypotheses, report the F-statistic and p-value, and draw your conclusion.</h4>"
   ]
  },
  {
   "cell_type": "code",
   "execution_count": null,
   "id": "fb5ff871",
   "metadata": {},
   "outputs": [],
   "source": [
    "# todo"
   ]
  },
  {
   "cell_type": "markdown",
   "id": "f594bec5",
   "metadata": {},
   "source": [
    "<h2>5 Binary Variables and Model Interpretation</h2>\n",
    "<h3>Add the binary variables type and location to your model from Question 3.</h3>"
   ]
  },
  {
   "cell_type": "markdown",
   "id": "d45b2b7b",
   "metadata": {},
   "source": [
    "<h4>(a) Write the new fitted regression equation.</h4>"
   ]
  },
  {
   "cell_type": "code",
   "execution_count": null,
   "id": "c78121ce",
   "metadata": {},
   "outputs": [],
   "source": [
    "# todo"
   ]
  },
  {
   "cell_type": "markdown",
   "id": "137f2297",
   "metadata": {},
   "source": [
    "<h4>(b) Interpret the coefficient for type in practical terms. How much higher or lower are claims for residential properties compared to commercial properties, holding all other variables constant?</h4>"
   ]
  },
  {
   "cell_type": "code",
   "execution_count": null,
   "id": "8afb5fc6",
   "metadata": {},
   "outputs": [],
   "source": [
    "# todo"
   ]
  },
  {
   "cell_type": "markdown",
   "id": "6f73fbae",
   "metadata": {},
   "source": [
    "<h4>(c) Test whether the addition of type and location significantly improves the model using a partial F-test. Compare the R2 values and comment on the improvement.</h4>"
   ]
  },
  {
   "cell_type": "code",
   "execution_count": null,
   "id": "db161966",
   "metadata": {},
   "outputs": [],
   "source": [
    "# todo"
   ]
  },
  {
   "cell_type": "markdown",
   "id": "602ba649",
   "metadata": {},
   "source": [
    "<h2>6 Interaction Effects</h2>\n",
    "<h3>Create a new model that includes an interaction term between deductible and type.</h3>"
   ]
  },
  {
   "cell_type": "markdown",
   "id": "2593e7e2",
   "metadata": {},
   "source": [
    "<h4>(a) Write the regression function that includes this interaction term.</h4>"
   ]
  },
  {
   "cell_type": "code",
   "execution_count": null,
   "id": "656ac029",
   "metadata": {},
   "outputs": [],
   "source": [
    "# todo"
   ]
  },
  {
   "cell_type": "markdown",
   "id": "f849afcb",
   "metadata": {},
   "source": [
    "<h4>(b) Interpret how the effect of deductible on claims differs between residential and commercial\n",
    "properties.\n",
    "</h4>"
   ]
  },
  {
   "cell_type": "code",
   "execution_count": null,
   "id": "ad14eb3a",
   "metadata": {},
   "outputs": [],
   "source": [
    "# todo"
   ]
  },
  {
   "cell_type": "markdown",
   "id": "9e82fe0d",
   "metadata": {},
   "source": [
    "<h4>(c) Test whether the interaction term is statistically significant at the 5% level.</h4>"
   ]
  },
  {
   "cell_type": "code",
   "execution_count": null,
   "id": "a7deee14",
   "metadata": {},
   "outputs": [],
   "source": [
    "# todo"
   ]
  },
  {
   "cell_type": "markdown",
   "id": "26d74896",
   "metadata": {},
   "source": [
    "<h2>7 Residual Analysis</h2>\n",
    "<h3>Using your model from Question 5:</h3>"
   ]
  },
  {
   "cell_type": "markdown",
   "id": "aa147aed",
   "metadata": {},
   "source": [
    "<h4>(a) Create a plot of residuals versus fitted values. Comment on any patterns you observe.</h4>"
   ]
  },
  {
   "cell_type": "code",
   "execution_count": null,
   "id": "3b8ce201",
   "metadata": {},
   "outputs": [],
   "source": [
    "# todo"
   ]
  },
  {
   "cell_type": "markdown",
   "id": "a226340e",
   "metadata": {},
   "source": [
    "<h4>(b) Create a Q-Q plot of the residuals. Does the normality assumption appear to be satisfied?</h4>"
   ]
  },
  {
   "cell_type": "code",
   "execution_count": null,
   "id": "ba0d422e",
   "metadata": {},
   "outputs": [],
   "source": [
    "# todo"
   ]
  },
  {
   "cell_type": "markdown",
   "id": "70c8a067",
   "metadata": {},
   "source": [
    "<h4>(c) Identify any observations that might be outliers or influential points based on your residual analysis.</h4>"
   ]
  },
  {
   "cell_type": "code",
   "execution_count": null,
   "id": "6e9c4252",
   "metadata": {},
   "outputs": [],
   "source": [
    "# todo"
   ]
  },
  {
   "cell_type": "markdown",
   "id": "06ac2072",
   "metadata": {},
   "source": [
    "<h2>8 Model Comparison and Selection</h2>\n",
    "<h3>Compare three models</h3>\n",
    "<ul>\n",
    "<li>Model A: claims ∼ deductible + coverage + age + prior claims + premium</li>\n",
    "<li>Model B: claims ∼ deductible + coverage + age + prior claims + premium + type + location</li>\n",
    "<li>Model C: claims ∼ deductible + coverage + prior claims + premium + type</li>\n",
    "</ul>\n"
   ]
  },
  {
   "cell_type": "markdown",
   "id": "c7beb5c9",
   "metadata": {},
   "source": [
    "<h4>(a) Create a table comparing the R2, adjusted R2, and residual standard deviation for all three models.</h4>"
   ]
  },
  {
   "cell_type": "code",
   "execution_count": null,
   "id": "775865a1",
   "metadata": {},
   "outputs": [],
   "source": [
    "# todo"
   ]
  },
  {
   "cell_type": "markdown",
   "id": "349a1f54",
   "metadata": {},
   "source": [
    "<h4>(b) Which model would you recommend and why? Consider both statistical criteria and practical interpretability.</h4>"
   ]
  },
  {
   "cell_type": "code",
   "execution_count": null,
   "id": "b21e5e86",
   "metadata": {},
   "outputs": [],
   "source": [
    "# todo"
   ]
  },
  {
   "cell_type": "markdown",
   "id": "9c2206ad",
   "metadata": {},
   "source": [
    "<h2>9 Practical Application</h2>\n",
    "<h3>Using your recommended model from Question 8:</h3>"
   ]
  },
  {
   "cell_type": "markdown",
   "id": "9cf90910",
   "metadata": {},
   "source": [
    "<h4>(a) Predict the expected claims amount for a residential property with the following characteristics:</h4>\n",
    "<ul>\n",
    "<li>Deductible: $5,000</li>\n",
    "<li> Coverage: $250,000</li>\n",
    "<li>Age: 15 years</li>\n",
    "<li>Prior claims: 1</li>\n",
    "<li>Premium: $2,500</li>\n",
    "<li>Location: Urban</li>\n",
    "</ul>"
   ]
  },
  {
   "cell_type": "code",
   "execution_count": null,
   "id": "f67e40e4",
   "metadata": {},
   "outputs": [],
   "source": [
    "# todo"
   ]
  },
  {
   "cell_type": "markdown",
   "id": "5c12ddfa",
   "metadata": {},
   "source": [
    "<h4>(b) Discuss the business implications of your findings. What recommendations would you make to an insurance company based on your analysis?</h4>"
   ]
  },
  {
   "cell_type": "code",
   "execution_count": null,
   "id": "dee6f6de",
   "metadata": {},
   "outputs": [],
   "source": [
    "# todo"
   ]
  },
  {
   "cell_type": "markdown",
   "id": "8e36bfb3",
   "metadata": {},
   "source": [
    "<h2>10 Critical Thinking</h2>"
   ]
  },
  {
   "cell_type": "markdown",
   "id": "661edf1c",
   "metadata": {},
   "source": [
    "<h3>(a) What are the key assumptions of multiple linear regression? Discuss whether these assumptions are likely to be satisfied in this insurance claims context.</h3>"
   ]
  },
  {
   "cell_type": "code",
   "execution_count": null,
   "id": "3101803b",
   "metadata": {},
   "outputs": [],
   "source": [
    "# todo"
   ]
  },
  {
   "cell_type": "markdown",
   "id": "91247f8e",
   "metadata": {},
   "source": [
    "<h3>(b) What additional variables might be useful to include in this model to better predict claims amounts? Explain your reasoning.</h3>"
   ]
  },
  {
   "cell_type": "code",
   "execution_count": null,
   "id": "f9b712a1",
   "metadata": {},
   "outputs": [],
   "source": [
    "# todo"
   ]
  }
 ],
 "metadata": {
  "kernelspec": {
   "display_name": "ml_env",
   "language": "python",
   "name": "ml_env"
  },
  "language_info": {
   "name": "python",
   "version": "3.12.10"
  }
 },
 "nbformat": 4,
 "nbformat_minor": 5
}
